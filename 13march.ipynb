{
 "cells": [
  {
   "cell_type": "code",
   "execution_count": 42,
   "id": "4ebdaeb2-253e-490f-8fc9-a043e4e286e1",
   "metadata": {},
   "outputs": [],
   "source": [
    "#class Sentiment:\n",
    "    \n",
    "class Review:\n",
    "    def __init__(self,text,score):\n",
    "        self.text=text\n",
    "        self.score=score\n",
    "        self.sentiment=self.get_sentiment()\n",
    "\n",
    "    def get_sentiment(self):\n",
    "        if self.score <=2:\n",
    "            return \"negative\"\n",
    "        elif self.score==3:\n",
    "            return \"Neutral\"\n",
    "        else:\n",
    "            return \"Positive\"\n",
    "        "
   ]
  },
  {
   "cell_type": "code",
   "execution_count": 43,
   "id": "71c9f075-0509-4ae2-8ab3-bffb7c6569c7",
   "metadata": {},
   "outputs": [
    {
     "data": {
      "text/plain": [
       "'Positive'"
      ]
     },
     "execution_count": 43,
     "metadata": {},
     "output_type": "execute_result"
    }
   ],
   "source": [
    "import json\n",
    "filename=\"D:\\\\ds\\\\Books_small.json\"\n",
    "with open(filename) as f:\n",
    "   # data=json.load(f)\n",
    "    \n",
    "    reviews=[]\n",
    "    for line in f:\n",
    "        \n",
    "        review=json.loads(line)\n",
    "      \n",
    "        reviews.append(Review(review['reviewText'],review['overall']))\n",
    "reviews[5].sentiment\n",
    "        "
   ]
  },
  {
   "cell_type": "code",
   "execution_count": null,
   "id": "f38ceab4-7035-4dcb-b04c-e53b1da0d259",
   "metadata": {},
   "outputs": [],
   "source": []
  },
  {
   "cell_type": "code",
   "execution_count": null,
   "id": "d1bb1508-4cd7-4fac-a26c-e8be9680df20",
   "metadata": {},
   "outputs": [],
   "source": []
  }
 ],
 "metadata": {
  "kernelspec": {
   "display_name": "Python 3 (ipykernel)",
   "language": "python",
   "name": "python3"
  },
  "language_info": {
   "codemirror_mode": {
    "name": "ipython",
    "version": 3
   },
   "file_extension": ".py",
   "mimetype": "text/x-python",
   "name": "python",
   "nbconvert_exporter": "python",
   "pygments_lexer": "ipython3",
   "version": "3.12.7"
  }
 },
 "nbformat": 4,
 "nbformat_minor": 5
}
